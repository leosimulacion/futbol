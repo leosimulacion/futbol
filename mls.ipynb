{
 "cells": [
  {
   "cell_type": "code",
   "execution_count": 1,
   "id": "c5920ebc-1a7c-4a91-9c38-34c02df5e884",
   "metadata": {},
   "outputs": [],
   "source": [
    "import pandas as pd\n",
    "import numpy as np\n",
    "from scipy.stats import poisson \n",
    "from matplotlib import pyplot as plt\n",
    "import seaborn as sns"
   ]
  },
  {
   "cell_type": "code",
   "execution_count": 2,
   "id": "687757ef-0a44-40bf-aa4f-9cce35563ae1",
   "metadata": {},
   "outputs": [
    {
     "ename": "ValueError",
     "evalue": "invalid literal for int() with base 10: 'X 18:00'",
     "output_type": "error",
     "traceback": [
      "\u001b[1;31m---------------------------------------------------------------------------\u001b[0m",
      "\u001b[1;31mValueError\u001b[0m                                Traceback (most recent call last)",
      "Input \u001b[1;32mIn [2]\u001b[0m, in \u001b[0;36m<cell line: 13>\u001b[1;34m()\u001b[0m\n\u001b[0;32m     11\u001b[0m resultado_visita\u001b[38;5;241m=\u001b[39mpd\u001b[38;5;241m.\u001b[39mDataFrame()\n\u001b[0;32m     13\u001b[0m \u001b[38;5;28;01mfor\u001b[39;00m i \u001b[38;5;129;01min\u001b[39;00m j:\n\u001b[1;32m---> 14\u001b[0m     resultado\u001b[38;5;241m=\u001b[39m\u001b[43mjornadas\u001b[49m\u001b[43m[\u001b[49m\u001b[43mi\u001b[49m\u001b[43m]\u001b[49m\u001b[38;5;241;43m.\u001b[39;49m\u001b[43mResultado\u001b[49m\u001b[38;5;241;43m.\u001b[39;49m\u001b[43mstr\u001b[49m\u001b[38;5;241;43m.\u001b[39;49m\u001b[43msplit\u001b[49m\u001b[43m(\u001b[49m\u001b[38;5;124;43m\"\u001b[39;49m\u001b[38;5;124;43m-\u001b[39;49m\u001b[38;5;124;43m\"\u001b[39;49m\u001b[43m,\u001b[49m\u001b[43m \u001b[49m\u001b[43mn\u001b[49m\u001b[43m \u001b[49m\u001b[38;5;241;43m=\u001b[39;49m\u001b[43m \u001b[49m\u001b[38;5;241;43m1\u001b[39;49m\u001b[43m,\u001b[49m\u001b[43m \u001b[49m\u001b[43mexpand\u001b[49m\u001b[43m \u001b[49m\u001b[38;5;241;43m=\u001b[39;49m\u001b[43m \u001b[49m\u001b[38;5;28;43;01mTrue\u001b[39;49;00m\u001b[43m)\u001b[49m\u001b[38;5;241;43m.\u001b[39;49m\u001b[43mastype\u001b[49m\u001b[43m(\u001b[49m\u001b[38;5;28;43mint\u001b[39;49m\u001b[43m)\u001b[49m\n\u001b[0;32m     15\u001b[0m     resultado_local[i]\u001b[38;5;241m=\u001b[39mpd\u001b[38;5;241m.\u001b[39mSeries(resultado[\u001b[38;5;241m0\u001b[39m])\n\u001b[0;32m     16\u001b[0m     resultado_visita[i]\u001b[38;5;241m=\u001b[39mpd\u001b[38;5;241m.\u001b[39mSeries(resultado[\u001b[38;5;241m1\u001b[39m])\n",
      "File \u001b[1;32m~\\anaconda3\\lib\\site-packages\\pandas\\core\\generic.py:5912\u001b[0m, in \u001b[0;36mNDFrame.astype\u001b[1;34m(self, dtype, copy, errors)\u001b[0m\n\u001b[0;32m   5905\u001b[0m     results \u001b[38;5;241m=\u001b[39m [\n\u001b[0;32m   5906\u001b[0m         \u001b[38;5;28mself\u001b[39m\u001b[38;5;241m.\u001b[39miloc[:, i]\u001b[38;5;241m.\u001b[39mastype(dtype, copy\u001b[38;5;241m=\u001b[39mcopy)\n\u001b[0;32m   5907\u001b[0m         \u001b[38;5;28;01mfor\u001b[39;00m i \u001b[38;5;129;01min\u001b[39;00m \u001b[38;5;28mrange\u001b[39m(\u001b[38;5;28mlen\u001b[39m(\u001b[38;5;28mself\u001b[39m\u001b[38;5;241m.\u001b[39mcolumns))\n\u001b[0;32m   5908\u001b[0m     ]\n\u001b[0;32m   5910\u001b[0m \u001b[38;5;28;01melse\u001b[39;00m:\n\u001b[0;32m   5911\u001b[0m     \u001b[38;5;66;03m# else, only a single dtype is given\u001b[39;00m\n\u001b[1;32m-> 5912\u001b[0m     new_data \u001b[38;5;241m=\u001b[39m \u001b[38;5;28;43mself\u001b[39;49m\u001b[38;5;241;43m.\u001b[39;49m\u001b[43m_mgr\u001b[49m\u001b[38;5;241;43m.\u001b[39;49m\u001b[43mastype\u001b[49m\u001b[43m(\u001b[49m\u001b[43mdtype\u001b[49m\u001b[38;5;241;43m=\u001b[39;49m\u001b[43mdtype\u001b[49m\u001b[43m,\u001b[49m\u001b[43m \u001b[49m\u001b[43mcopy\u001b[49m\u001b[38;5;241;43m=\u001b[39;49m\u001b[43mcopy\u001b[49m\u001b[43m,\u001b[49m\u001b[43m \u001b[49m\u001b[43merrors\u001b[49m\u001b[38;5;241;43m=\u001b[39;49m\u001b[43merrors\u001b[49m\u001b[43m)\u001b[49m\n\u001b[0;32m   5913\u001b[0m     \u001b[38;5;28;01mreturn\u001b[39;00m \u001b[38;5;28mself\u001b[39m\u001b[38;5;241m.\u001b[39m_constructor(new_data)\u001b[38;5;241m.\u001b[39m__finalize__(\u001b[38;5;28mself\u001b[39m, method\u001b[38;5;241m=\u001b[39m\u001b[38;5;124m\"\u001b[39m\u001b[38;5;124mastype\u001b[39m\u001b[38;5;124m\"\u001b[39m)\n\u001b[0;32m   5915\u001b[0m \u001b[38;5;66;03m# GH 33113: handle empty frame or series\u001b[39;00m\n",
      "File \u001b[1;32m~\\anaconda3\\lib\\site-packages\\pandas\\core\\internals\\managers.py:419\u001b[0m, in \u001b[0;36mBaseBlockManager.astype\u001b[1;34m(self, dtype, copy, errors)\u001b[0m\n\u001b[0;32m    418\u001b[0m \u001b[38;5;28;01mdef\u001b[39;00m \u001b[38;5;21mastype\u001b[39m(\u001b[38;5;28mself\u001b[39m: T, dtype, copy: \u001b[38;5;28mbool\u001b[39m \u001b[38;5;241m=\u001b[39m \u001b[38;5;28;01mFalse\u001b[39;00m, errors: \u001b[38;5;28mstr\u001b[39m \u001b[38;5;241m=\u001b[39m \u001b[38;5;124m\"\u001b[39m\u001b[38;5;124mraise\u001b[39m\u001b[38;5;124m\"\u001b[39m) \u001b[38;5;241m-\u001b[39m\u001b[38;5;241m>\u001b[39m T:\n\u001b[1;32m--> 419\u001b[0m     \u001b[38;5;28;01mreturn\u001b[39;00m \u001b[38;5;28;43mself\u001b[39;49m\u001b[38;5;241;43m.\u001b[39;49m\u001b[43mapply\u001b[49m\u001b[43m(\u001b[49m\u001b[38;5;124;43m\"\u001b[39;49m\u001b[38;5;124;43mastype\u001b[39;49m\u001b[38;5;124;43m\"\u001b[39;49m\u001b[43m,\u001b[49m\u001b[43m \u001b[49m\u001b[43mdtype\u001b[49m\u001b[38;5;241;43m=\u001b[39;49m\u001b[43mdtype\u001b[49m\u001b[43m,\u001b[49m\u001b[43m \u001b[49m\u001b[43mcopy\u001b[49m\u001b[38;5;241;43m=\u001b[39;49m\u001b[43mcopy\u001b[49m\u001b[43m,\u001b[49m\u001b[43m \u001b[49m\u001b[43merrors\u001b[49m\u001b[38;5;241;43m=\u001b[39;49m\u001b[43merrors\u001b[49m\u001b[43m)\u001b[49m\n",
      "File \u001b[1;32m~\\anaconda3\\lib\\site-packages\\pandas\\core\\internals\\managers.py:304\u001b[0m, in \u001b[0;36mBaseBlockManager.apply\u001b[1;34m(self, f, align_keys, ignore_failures, **kwargs)\u001b[0m\n\u001b[0;32m    302\u001b[0m         applied \u001b[38;5;241m=\u001b[39m b\u001b[38;5;241m.\u001b[39mapply(f, \u001b[38;5;241m*\u001b[39m\u001b[38;5;241m*\u001b[39mkwargs)\n\u001b[0;32m    303\u001b[0m     \u001b[38;5;28;01melse\u001b[39;00m:\n\u001b[1;32m--> 304\u001b[0m         applied \u001b[38;5;241m=\u001b[39m \u001b[38;5;28mgetattr\u001b[39m(b, f)(\u001b[38;5;241m*\u001b[39m\u001b[38;5;241m*\u001b[39mkwargs)\n\u001b[0;32m    305\u001b[0m \u001b[38;5;28;01mexcept\u001b[39;00m (\u001b[38;5;167;01mTypeError\u001b[39;00m, \u001b[38;5;167;01mNotImplementedError\u001b[39;00m):\n\u001b[0;32m    306\u001b[0m     \u001b[38;5;28;01mif\u001b[39;00m \u001b[38;5;129;01mnot\u001b[39;00m ignore_failures:\n",
      "File \u001b[1;32m~\\anaconda3\\lib\\site-packages\\pandas\\core\\internals\\blocks.py:580\u001b[0m, in \u001b[0;36mBlock.astype\u001b[1;34m(self, dtype, copy, errors)\u001b[0m\n\u001b[0;32m    562\u001b[0m \u001b[38;5;124;03m\"\"\"\u001b[39;00m\n\u001b[0;32m    563\u001b[0m \u001b[38;5;124;03mCoerce to the new dtype.\u001b[39;00m\n\u001b[0;32m    564\u001b[0m \n\u001b[1;32m   (...)\u001b[0m\n\u001b[0;32m    576\u001b[0m \u001b[38;5;124;03mBlock\u001b[39;00m\n\u001b[0;32m    577\u001b[0m \u001b[38;5;124;03m\"\"\"\u001b[39;00m\n\u001b[0;32m    578\u001b[0m values \u001b[38;5;241m=\u001b[39m \u001b[38;5;28mself\u001b[39m\u001b[38;5;241m.\u001b[39mvalues\n\u001b[1;32m--> 580\u001b[0m new_values \u001b[38;5;241m=\u001b[39m \u001b[43mastype_array_safe\u001b[49m\u001b[43m(\u001b[49m\u001b[43mvalues\u001b[49m\u001b[43m,\u001b[49m\u001b[43m \u001b[49m\u001b[43mdtype\u001b[49m\u001b[43m,\u001b[49m\u001b[43m \u001b[49m\u001b[43mcopy\u001b[49m\u001b[38;5;241;43m=\u001b[39;49m\u001b[43mcopy\u001b[49m\u001b[43m,\u001b[49m\u001b[43m \u001b[49m\u001b[43merrors\u001b[49m\u001b[38;5;241;43m=\u001b[39;49m\u001b[43merrors\u001b[49m\u001b[43m)\u001b[49m\n\u001b[0;32m    582\u001b[0m new_values \u001b[38;5;241m=\u001b[39m maybe_coerce_values(new_values)\n\u001b[0;32m    583\u001b[0m newb \u001b[38;5;241m=\u001b[39m \u001b[38;5;28mself\u001b[39m\u001b[38;5;241m.\u001b[39mmake_block(new_values)\n",
      "File \u001b[1;32m~\\anaconda3\\lib\\site-packages\\pandas\\core\\dtypes\\cast.py:1292\u001b[0m, in \u001b[0;36mastype_array_safe\u001b[1;34m(values, dtype, copy, errors)\u001b[0m\n\u001b[0;32m   1289\u001b[0m     dtype \u001b[38;5;241m=\u001b[39m dtype\u001b[38;5;241m.\u001b[39mnumpy_dtype\n\u001b[0;32m   1291\u001b[0m \u001b[38;5;28;01mtry\u001b[39;00m:\n\u001b[1;32m-> 1292\u001b[0m     new_values \u001b[38;5;241m=\u001b[39m \u001b[43mastype_array\u001b[49m\u001b[43m(\u001b[49m\u001b[43mvalues\u001b[49m\u001b[43m,\u001b[49m\u001b[43m \u001b[49m\u001b[43mdtype\u001b[49m\u001b[43m,\u001b[49m\u001b[43m \u001b[49m\u001b[43mcopy\u001b[49m\u001b[38;5;241;43m=\u001b[39;49m\u001b[43mcopy\u001b[49m\u001b[43m)\u001b[49m\n\u001b[0;32m   1293\u001b[0m \u001b[38;5;28;01mexcept\u001b[39;00m (\u001b[38;5;167;01mValueError\u001b[39;00m, \u001b[38;5;167;01mTypeError\u001b[39;00m):\n\u001b[0;32m   1294\u001b[0m     \u001b[38;5;66;03m# e.g. astype_nansafe can fail on object-dtype of strings\u001b[39;00m\n\u001b[0;32m   1295\u001b[0m     \u001b[38;5;66;03m#  trying to convert to float\u001b[39;00m\n\u001b[0;32m   1296\u001b[0m     \u001b[38;5;28;01mif\u001b[39;00m errors \u001b[38;5;241m==\u001b[39m \u001b[38;5;124m\"\u001b[39m\u001b[38;5;124mignore\u001b[39m\u001b[38;5;124m\"\u001b[39m:\n",
      "File \u001b[1;32m~\\anaconda3\\lib\\site-packages\\pandas\\core\\dtypes\\cast.py:1237\u001b[0m, in \u001b[0;36mastype_array\u001b[1;34m(values, dtype, copy)\u001b[0m\n\u001b[0;32m   1234\u001b[0m     values \u001b[38;5;241m=\u001b[39m values\u001b[38;5;241m.\u001b[39mastype(dtype, copy\u001b[38;5;241m=\u001b[39mcopy)\n\u001b[0;32m   1236\u001b[0m \u001b[38;5;28;01melse\u001b[39;00m:\n\u001b[1;32m-> 1237\u001b[0m     values \u001b[38;5;241m=\u001b[39m \u001b[43mastype_nansafe\u001b[49m\u001b[43m(\u001b[49m\u001b[43mvalues\u001b[49m\u001b[43m,\u001b[49m\u001b[43m \u001b[49m\u001b[43mdtype\u001b[49m\u001b[43m,\u001b[49m\u001b[43m \u001b[49m\u001b[43mcopy\u001b[49m\u001b[38;5;241;43m=\u001b[39;49m\u001b[43mcopy\u001b[49m\u001b[43m)\u001b[49m\n\u001b[0;32m   1239\u001b[0m \u001b[38;5;66;03m# in pandas we don't store numpy str dtypes, so convert to object\u001b[39;00m\n\u001b[0;32m   1240\u001b[0m \u001b[38;5;28;01mif\u001b[39;00m \u001b[38;5;28misinstance\u001b[39m(dtype, np\u001b[38;5;241m.\u001b[39mdtype) \u001b[38;5;129;01mand\u001b[39;00m \u001b[38;5;28missubclass\u001b[39m(values\u001b[38;5;241m.\u001b[39mdtype\u001b[38;5;241m.\u001b[39mtype, \u001b[38;5;28mstr\u001b[39m):\n",
      "File \u001b[1;32m~\\anaconda3\\lib\\site-packages\\pandas\\core\\dtypes\\cast.py:1098\u001b[0m, in \u001b[0;36mastype_nansafe\u001b[1;34m(arr, dtype, copy, skipna)\u001b[0m\n\u001b[0;32m   1096\u001b[0m \u001b[38;5;28;01mif\u001b[39;00m arr\u001b[38;5;241m.\u001b[39mndim \u001b[38;5;241m>\u001b[39m \u001b[38;5;241m1\u001b[39m:\n\u001b[0;32m   1097\u001b[0m     flat \u001b[38;5;241m=\u001b[39m arr\u001b[38;5;241m.\u001b[39mravel()\n\u001b[1;32m-> 1098\u001b[0m     result \u001b[38;5;241m=\u001b[39m \u001b[43mastype_nansafe\u001b[49m\u001b[43m(\u001b[49m\u001b[43mflat\u001b[49m\u001b[43m,\u001b[49m\u001b[43m \u001b[49m\u001b[43mdtype\u001b[49m\u001b[43m,\u001b[49m\u001b[43m \u001b[49m\u001b[43mcopy\u001b[49m\u001b[38;5;241;43m=\u001b[39;49m\u001b[43mcopy\u001b[49m\u001b[43m,\u001b[49m\u001b[43m \u001b[49m\u001b[43mskipna\u001b[49m\u001b[38;5;241;43m=\u001b[39;49m\u001b[43mskipna\u001b[49m\u001b[43m)\u001b[49m\n\u001b[0;32m   1099\u001b[0m     \u001b[38;5;66;03m# error: Item \"ExtensionArray\" of \"Union[ExtensionArray, ndarray]\" has no\u001b[39;00m\n\u001b[0;32m   1100\u001b[0m     \u001b[38;5;66;03m# attribute \"reshape\"\u001b[39;00m\n\u001b[0;32m   1101\u001b[0m     \u001b[38;5;28;01mreturn\u001b[39;00m result\u001b[38;5;241m.\u001b[39mreshape(arr\u001b[38;5;241m.\u001b[39mshape)  \u001b[38;5;66;03m# type: ignore[union-attr]\u001b[39;00m\n",
      "File \u001b[1;32m~\\anaconda3\\lib\\site-packages\\pandas\\core\\dtypes\\cast.py:1154\u001b[0m, in \u001b[0;36mastype_nansafe\u001b[1;34m(arr, dtype, copy, skipna)\u001b[0m\n\u001b[0;32m   1150\u001b[0m \u001b[38;5;28;01melif\u001b[39;00m is_object_dtype(arr\u001b[38;5;241m.\u001b[39mdtype):\n\u001b[0;32m   1151\u001b[0m \n\u001b[0;32m   1152\u001b[0m     \u001b[38;5;66;03m# work around NumPy brokenness, #1987\u001b[39;00m\n\u001b[0;32m   1153\u001b[0m     \u001b[38;5;28;01mif\u001b[39;00m np\u001b[38;5;241m.\u001b[39missubdtype(dtype\u001b[38;5;241m.\u001b[39mtype, np\u001b[38;5;241m.\u001b[39minteger):\n\u001b[1;32m-> 1154\u001b[0m         \u001b[38;5;28;01mreturn\u001b[39;00m \u001b[43mlib\u001b[49m\u001b[38;5;241;43m.\u001b[39;49m\u001b[43mastype_intsafe\u001b[49m\u001b[43m(\u001b[49m\u001b[43marr\u001b[49m\u001b[43m,\u001b[49m\u001b[43m \u001b[49m\u001b[43mdtype\u001b[49m\u001b[43m)\u001b[49m\n\u001b[0;32m   1156\u001b[0m     \u001b[38;5;66;03m# if we have a datetime/timedelta array of objects\u001b[39;00m\n\u001b[0;32m   1157\u001b[0m     \u001b[38;5;66;03m# then coerce to a proper dtype and recall astype_nansafe\u001b[39;00m\n\u001b[0;32m   1159\u001b[0m     \u001b[38;5;28;01melif\u001b[39;00m is_datetime64_dtype(dtype):\n",
      "File \u001b[1;32m~\\anaconda3\\lib\\site-packages\\pandas\\_libs\\lib.pyx:668\u001b[0m, in \u001b[0;36mpandas._libs.lib.astype_intsafe\u001b[1;34m()\u001b[0m\n",
      "\u001b[1;31mValueError\u001b[0m: invalid literal for int() with base 10: 'X 18:00'"
     ]
    }
   ],
   "source": [
    "tabla = pd.read_html('https://mexico.as.com/resultados/futbol/mls/clasificacion/')\n",
    "jornadas = pd.read_html('https://mexico.as.com/resultados/futbol/mls/calendario/')\n",
    "jornadas[5].Resultado[12]='0 - 0'\n",
    "jornadas[5].Resultado[13]='0 - 0'\n",
    "jornadas[15].Resultado[14]='0 - 0'\n",
    "\n",
    "jornadascompletas=23\n",
    "j=list(range(0,jornadascompletas))\n",
    "\n",
    "resultado_local=pd.DataFrame()\n",
    "resultado_visita=pd.DataFrame()\n",
    "\n",
    "for i in j:\n",
    "    resultado=jornadas[i].Resultado.str.split(\"-\", n = 1, expand = True).astype(int)\n",
    "    resultado_local[i]=pd.Series(resultado[0])\n",
    "    resultado_visita[i]=pd.Series(resultado[1])\n",
    "\n",
    "\n",
    "resultado_local=resultado_local.fillna(0)\n",
    "resultado_visita=resultado_visita.fillna(0)\n",
    "\n",
    "resultado_local.to_csv('mls_resultado_local.csv')\n",
    "resultado_visita.to_csv('mls_resultado_visita.csv')\n",
    "\n",
    "equipo_local=pd.DataFrame()\n",
    "equipo_visita=pd.DataFrame()\n",
    "\n",
    "for i in list(range(0,jornadascompletas)):\n",
    "    equipo_local[i]=jornadas[i]['Equipo local']\n",
    "    equipo_visita[i]=jornadas[i]['Equipo visitante']\n",
    "\n",
    "equipo_local=equipo_local.fillna(0)\n",
    "equipo_visita=equipo_visita.fillna(0)\n",
    "\n",
    "equipo_local.to_csv('mls_equipo_local.cvs',sep=',')\n",
    "equipo_visita.to_csv('mls_equipo_visita.cvs',sep=',')\n",
    "\n",
    "for i in j:\n",
    "    pd.DataFrame({'equipo local':equipo_local[i],'goles local':resultado_local[i],'goles visita':resultado_visita[i],'equipo visita':equipo_visita[i]}).to_csv('mls_jornada{}.csv'.format(i),index=False)\n",
    "\n",
    "suma_goles_local_jornada=resultado_local.sum()\n",
    "suma_goles_visita_jornada=resultado_visita.sum()\n",
    "suma_goles=suma_goles_local_jornada+suma_goles_visita_jornada\n",
    "dif_goles=suma_goles_local_jornada-suma_goles_visita_jornada\n",
    "\n",
    "este=tabla[0]\n",
    "oeste=tabla[1]\n",
    "club1=este.Equipo.str.split(\"  \", n = 1, expand = True)\n",
    "club2=oeste.Equipo.str.split(\"  \", n = 1, expand = True)\n",
    "club_este=club1[1]\n",
    "club_oeste=club2[1]\n",
    "este['Equipo']=club_este\n",
    "oeste['Equipo']=club_oeste\n",
    "\n",
    "mls = pd.DataFrame()\n",
    "mls = pd.concat([este, oeste])\n",
    "jornadascompletas=21\n",
    "local=jornadas[jornadascompletas]['Equipo local'].tolist()\n",
    "visita=jornadas[jornadascompletas]['Equipo visitante'].tolist()\n",
    "\n",
    "stats_este=este.describe()\n",
    "stats_oeste=oeste.describe()\n",
    "\n",
    "resultado=jornadas[jornadascompletas].Resultado.str.split(\"-\", n = 1, expand = True).astype(int)\n",
    "resultado.columns=['Local','Visita']\n",
    "tamañojornada=len(local)\n",
    "\n",
    "equipos_list=mls['Equipo'].tolist()\n",
    "mls.index = range(0,len(equipos_list))\n",
    "stats_mls=mls.describe()\n",
    "\n",
    "equipos_list[14]='Austin FC'\n",
    "equipos_list[15]='Los Angeles FC'\n",
    "\n",
    "mls_av=pd.DataFrame()\n",
    "mls_av['mean GF']=mls['GF'][:]/stats_mls['PJ'][1]\n",
    "mls_av['mean GC']=mls['GC'][:]/stats_mls['PJ'][1]\n",
    "mls_av['ataque']=mls_av['mean GF']/(stats_mls['GF'][1]/stats_mls['PJ'][1])\n",
    "mls_av['defensa']=mls_av['mean GC']/(stats_mls['GC'][1]/stats_mls['PJ'][1])\n",
    "stats_mls_av=mls_av.describe()\n",
    "\n",
    "matrix_goles=pd.DataFrame()\n",
    "ind=list(range(0,len(mls)))\n",
    "for i in ind:\n",
    "    matrix_goles[equipos_list[ind[i]]]=mls_av['ataque'][ind[i]]*mls_av['defensa'][:]*stats_mls_av['mean GF'][1]\n",
    "\n",
    "matrix_goles.columns=equipos_list\n",
    "matrix_goles.index=equipos_list\n",
    "\n",
    "GFx_local=np.diag(matrix_goles[local].loc[visita])\n",
    "GFx_visita=np.diag(matrix_goles[visita].loc[local])\n",
    "\n",
    "k=[0,1,2,3,4,5]\n",
    "P_home=pd.DataFrame()\n",
    "P_away=pd.DataFrame()\n",
    "mu=GFx_local\n",
    "mu2=GFx_visita\n",
    "\n",
    "for i in k:\n",
    "    P_home[i]=poisson.pmf(k[i],mu)\n",
    "    P_away[i]=poisson.pmf(k[i],mu2)\n",
    "\n",
    "P_home.index=local\n",
    "P_away.index=visita\n",
    "P_home.index=local\n",
    "P_away.index=visita\n",
    "\n",
    "g=pd.DataFrame()\n",
    "ind=list(range(0,tamañojornada))\n",
    "\n",
    "for i in ind: \n",
    "    tabla=pd.DataFrame({local[i]:P_home.iloc[i].tolist(),visita[i]:P_away.iloc[i].tolist()})\n",
    "    tabla.to_csv('tabla{}.csv'.format(i),index=False, sep=',')\n",
    "    p=tabla.idxmax()\n",
    "    g=pd.concat([g,p])\n",
    "\n",
    "g=g[0]\n",
    "Pgoles_home=g[local]\n",
    "Pgoles_away=g[visita]\n",
    "Pgoles_home.index=ind\n",
    "Pgoles_away.index=ind\n",
    "\n",
    "tabla=pd.DataFrame()\n",
    "winlcl=pd.DataFrame()\n",
    "winvis=pd.DataFrame()\n",
    "e=pd.DataFrame()\n",
    "ind=list(range(0,tamañojornada))\n",
    "\n",
    "for i in ind:\n",
    "    tabla=pd.read_csv('tabla{}.csv'.format(ind[i]))\n",
    "    empate=pd.Series(tabla.iloc[0][0]*tabla.iloc[0][1]+tabla.iloc[1][0]*tabla.iloc[1][1]+tabla.iloc[2][0]*tabla.iloc[2][1]+tabla.iloc[3][0]*tabla.iloc[3][1]+tabla.iloc[4][0]*tabla.iloc[4][1]+tabla.iloc[5][0]*tabla.iloc[5][1])\n",
    "    vis=pd.Series(tabla.iloc[0][0]*tabla.iloc[1][1]+tabla.iloc[0][0]*tabla.iloc[2][1]+tabla.iloc[0][0]*tabla.iloc[3][1]+tabla.iloc[0][0]*tabla.iloc[4][1]+tabla.iloc[0][0]*tabla.iloc[5][1]+tabla.iloc[1][0]*tabla.iloc[2][1]+tabla.iloc[1][0]*tabla.iloc[3][1]+tabla.iloc[1][0]*tabla.iloc[4][1]+tabla.iloc[1][0]*tabla.iloc[5][1]+tabla.iloc[2][0]*tabla.iloc[3][1]+tabla.iloc[2][0]*tabla.iloc[4][1]+tabla.iloc[2][0]*tabla.iloc[5][1]+tabla.iloc[3][0]*tabla.iloc[4][1]+tabla.iloc[3][0]*tabla.iloc[5][1]+tabla.iloc[4][0]*tabla.iloc[5][1])\n",
    "    lcl=pd.Series(tabla.iloc[0][1]*tabla.iloc[1][0]+tabla.iloc[0][1]*tabla.iloc[2][0]+tabla.iloc[0][1]*tabla.iloc[3][0]+tabla.iloc[0][1]*tabla.iloc[4][0]+tabla.iloc[0][1]*tabla.iloc[5][0]+tabla.iloc[1][1]*tabla.iloc[2][0]+tabla.iloc[1][1]*tabla.iloc[3][0]+tabla.iloc[1][1]*tabla.iloc[4][0]+tabla.iloc[1][1]*tabla.iloc[5][0]+tabla.iloc[2][1]*tabla.iloc[3][0]+tabla.iloc[2][1]*tabla.iloc[4][0]+tabla.iloc[2][1]*tabla.iloc[5][0]+tabla.iloc[3][1]*tabla.iloc[4][0]+tabla.iloc[3][1]*tabla.iloc[5][0]+tabla.iloc[4][1]*tabla.iloc[5][0])\n",
    "    e=pd.concat([e,empate])\n",
    "    winvis=pd.concat([winvis,vis])\n",
    "    winlcl=pd.concat([winlcl,lcl])\n",
    "\n",
    "winvis.index=ind\n",
    "winlcl.index=ind\n",
    "e.index=ind\n",
    "visita_gane=winvis\n",
    "local_gane=winlcl\n",
    "empate=e\n"
   ]
  },
  {
   "cell_type": "code",
   "execution_count": null,
   "id": "f43ccd98",
   "metadata": {},
   "outputs": [],
   "source": [
    "pronosticoP=pd.DataFrame({'local':local,'P GF local':Pgoles_home,'P GF visita':Pgoles_away,'visita':visita})\n",
    "pronosticoE=pd.DataFrame({'local':local,'E GF local':GFx_local,'E GF visita':GFx_visita,'visita':visita})"
   ]
  },
  {
   "cell_type": "code",
   "execution_count": null,
   "id": "344d60e5",
   "metadata": {},
   "outputs": [],
   "source": [
    "probabilidades=pd.DataFrame({'local':local, 'P ganar local':local_gane[0], 'P empate':empate[0], 'P ganar visita':visita_gane[0], 'visita':visita})\n",
    "probabilidades"
   ]
  },
  {
   "cell_type": "code",
   "execution_count": null,
   "id": "6b128a02-d4d8-4415-aeca-6e391ed60b4b",
   "metadata": {},
   "outputs": [],
   "source": [
    "pronosticoE"
   ]
  },
  {
   "cell_type": "code",
   "execution_count": null,
   "id": "2e230ce2",
   "metadata": {},
   "outputs": [],
   "source": [
    "pronosticoP"
   ]
  },
  {
   "cell_type": "code",
   "execution_count": null,
   "id": "489c9d54",
   "metadata": {},
   "outputs": [],
   "source": [
    "jornadas[jornadascompletas]"
   ]
  },
  {
   "cell_type": "code",
   "execution_count": null,
   "id": "bcc48361",
   "metadata": {},
   "outputs": [],
   "source": [
    "ll=probabilidades[resultado['Local'].values>resultado['Visita'].values].local\n",
    "l=probabilidades[probabilidades['P ganar local'].values>probabilidades['P ganar visita'].values].local\n",
    "ll[ll.isin(l)].count()/l.count()"
   ]
  },
  {
   "cell_type": "code",
   "execution_count": null,
   "id": "647aaaa6",
   "metadata": {},
   "outputs": [],
   "source": [
    "cc=probabilidades[resultado['Local'].values<resultado['Visita'].values].visita\n",
    "c=probabilidades[probabilidades['P ganar local'].values<probabilidades['P ganar visita'].values].visita\n",
    "cc[cc.isin(c)].count()/c.count()\n"
   ]
  },
  {
   "cell_type": "code",
   "execution_count": null,
   "id": "2cbaadf4",
   "metadata": {},
   "outputs": [],
   "source": [
    "e=probabilidades['P empate']>probabilidades['P ganar local']\n",
    "e2=probabilidades['P empate'][e]>probabilidades['P ganar visita'][e] \n",
    "if any(list(e2)) == True:\n",
    "    print('si hay')"
   ]
  },
  {
   "cell_type": "code",
   "execution_count": null,
   "id": "37e180df",
   "metadata": {},
   "outputs": [],
   "source": [
    "resultado.Local.hist()\n",
    "plt.xlabel(\"No. Goles en jornada {}\".format(jornadascompletas))\n",
    "plt.ylabel(\"Frecuencia\")\n",
    "plt.title(\"Local\")\n",
    "plt.xticks([0,1,2,3,4,5])\n",
    "plt.savefig('mls_hist_resultado_local.png')\n",
    "plt.show()"
   ]
  },
  {
   "cell_type": "code",
   "execution_count": null,
   "id": "c0cffd59",
   "metadata": {},
   "outputs": [],
   "source": [
    "resultado.Visita.hist()\n",
    "plt.xlabel(\"No. Goles en jornada {}\".format(jornadascompletas))\n",
    "plt.ylabel(\"Frecuencia\")\n",
    "plt.title(\"Visita\")\n",
    "plt.xticks([0,1,2,3,4,5])\n",
    "plt.savefig('mls_hist_resultado_local.png')\n",
    "plt.show()"
   ]
  },
  {
   "cell_type": "code",
   "execution_count": null,
   "id": "22b0e704",
   "metadata": {},
   "outputs": [],
   "source": [
    "plt.bar(j,dif_goles)\n",
    "plt.xlabel(\"Jornadas\")\n",
    "plt.ylabel(\"Goles\")\n",
    "plt.title('Diferencia goles Liga MLS 2022')\n",
    "plt.savefig('mls_bars_dif.png')\n",
    "plt.show()"
   ]
  },
  {
   "cell_type": "code",
   "execution_count": null,
   "id": "3c8711aa",
   "metadata": {},
   "outputs": [],
   "source": [
    "sns.kdeplot(data=suma_goles_local_jornada,shade=True,bw_adjust=1,label='local',alpha=0.6)\n",
    "sns.kdeplot(data=suma_goles_visita_jornada,shade=True,bw_adjust=1,label='visitante',alpha=0.6)\n",
    "plt.xlabel(\"Conteo de goles hasta la jornada {} \".format(jornadascompletas))\n",
    "plt.legend(loc='upper left', prop={'size': 10}, frameon=False)\n",
    "plt.title('Suma de goles locales y visitantes')\n",
    "plt.savefig('mls_distsumadegoles.png')\n",
    "plt.show()"
   ]
  },
  {
   "cell_type": "code",
   "execution_count": null,
   "id": "bb5c0032",
   "metadata": {},
   "outputs": [],
   "source": [
    "sns.distplot(suma_goles_visita_jornada)\n",
    "plt.xlabel(\"Conteo de goles hasta jornada {} \".format(jornadascompletas))\n",
    "plt.title('Suma de goles de visita')\n",
    "plt.savefig('mls_sumalocal.png')\n",
    "plt.show()"
   ]
  },
  {
   "cell_type": "code",
   "execution_count": null,
   "id": "d5d84387",
   "metadata": {},
   "outputs": [],
   "source": [
    "sns.distplot(suma_goles_local_jornada)\n",
    "plt.xlabel(\"Conteo de goles hasta jornada {} \".format(jornadascompletas))\n",
    "plt.title('Suma de goles locales')\n",
    "plt.savefig('mls_sumavisitante.png')\n",
    "plt.show()"
   ]
  },
  {
   "cell_type": "code",
   "execution_count": null,
   "id": "9ef91c78",
   "metadata": {},
   "outputs": [],
   "source": [
    "sns.distplot(dif_goles)\n",
    "plt.xlabel(\"Conteo de goles hasta jornada {} \".format(jornadascompletas))\n",
    "plt.title('Diferencia de goles')\n",
    "plt.savefig('mls_dist_dif.png')\n",
    "plt.show()"
   ]
  },
  {
   "cell_type": "code",
   "execution_count": null,
   "id": "24f3d74d",
   "metadata": {},
   "outputs": [],
   "source": [
    "local_cumulativo=np.array(suma_goles_local_jornada)\n",
    "visita_cumulativo=np.array(suma_goles_visita_jornada)\n",
    "plt.plot(np.cumsum(local_cumulativo),'s',label='local')\n",
    "plt.plot(np.cumsum(visita_cumulativo),'rs',label='visita')\n",
    "plt.plot(np.cumsum(local_cumulativo-visita_cumulativo),'gs',label='diferencia')\n",
    "plt.plot(np.cumsum(local_cumulativo+visita_cumulativo),'ks',label='suma')\n",
    "plt.legend(loc='upper left', prop={'size': 10}, frameon=False)\n",
    "plt.xlabel('Jornadas')\n",
    "plt.ylabel('Suma de goles')\n",
    "plt.savefig('mls_cumulativo.png')\n",
    "plt.show()"
   ]
  },
  {
   "cell_type": "code",
   "execution_count": null,
   "id": "94d60221",
   "metadata": {},
   "outputs": [],
   "source": []
  },
  {
   "cell_type": "code",
   "execution_count": null,
   "id": "8f92b28d",
   "metadata": {},
   "outputs": [],
   "source": []
  }
 ],
 "metadata": {
  "kernelspec": {
   "display_name": "Python 3 (ipykernel)",
   "language": "python",
   "name": "python3"
  },
  "language_info": {
   "codemirror_mode": {
    "name": "ipython",
    "version": 3
   },
   "file_extension": ".py",
   "mimetype": "text/x-python",
   "name": "python",
   "nbconvert_exporter": "python",
   "pygments_lexer": "ipython3",
   "version": "3.9.12"
  }
 },
 "nbformat": 4,
 "nbformat_minor": 5
}
